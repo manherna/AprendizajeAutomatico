{
 "cells": [
  {
   "cell_type": "markdown",
   "metadata": {},
   "source": [
    "Final Project of Machine Learning course.\n",
    "Machine recognition of hand-written characters.\n",
    "By Mario Jiménez and Manuel Hernández"
   ]
  },
  {
   "cell_type": "markdown",
   "metadata": {},
   "source": [
    "In this project we are facing the challenge of recognizing hand-written digits vía Machine Learning"
   ]
  },
  {
   "cell_type": "markdown",
   "metadata": {},
   "source": [
    "We will use a standard multi-class classification Neural Network with 3 layers (input, hidden, output) to clasify 8x8 input images.\n",
    "\n",
    "Input images are, at start, 32 x 32 normalized bitmaps with pixel values 0 or 1 (0 for non written and 1 for written). Those are then divided into 4x4 non interpolated regions which give the result 8x8 images with pixel values from 0 to 16. \n",
    "\n",
    "Those 8x8 images are the ones we will work with."
   ]
  },
  {
   "cell_type": "code",
   "execution_count": 2,
   "metadata": {},
   "outputs": [],
   "source": [
    "%matplotlib notebook\n",
    "import matplotlib\n",
    "import matplotlib.pyplot as plt\n",
    "import numpy as np\n",
    "import csv"
   ]
  },
  {
   "cell_type": "code",
   "execution_count": 2,
   "metadata": {},
   "outputs": [],
   "source": [
    "def displayData(X):\n",
    "    num_plots = int(np.size(X, 0)**.5)\n",
    "    fig, ax = plt.subplots(num_plots, num_plots, sharex=True, sharey=True)\n",
    "    plt.subplots_adjust(left=0, wspace=0, hspace=0)\n",
    "    img_num = 0\n",
    "    for i in range(num_plots):\n",
    "        for j in range(num_plots):\n",
    "            # Convert column vector into 20x20 pixel matrix\n",
    "            # transpose\n",
    "            img = X[img_num, :].reshape(8, 8).T\n",
    "            ax[i][j].imshow(img, cmap='Greys')\n",
    "            ax[i][j].set_axis_off()\n",
    "            img_num += 1\n",
    "\n",
    "    return (fig, ax)\n",
    "\n",
    "\n",
    "def displayImage(im):\n",
    "    fig2, ax2 = plt.subplots()\n",
    "    image = im.reshape(8, 8)\n",
    "    ax2.imshow(image, cmap='gray')\n",
    "    return (fig2, ax2)"
   ]
  },
  {
   "cell_type": "markdown",
   "metadata": {},
   "source": [
    "# Logistic Regresion Functions\n"
   ]
  },
  {
   "cell_type": "code",
   "execution_count": null,
   "metadata": {},
   "outputs": [],
   "source": [
    "#Used as activation function with Neural nertworks\n",
    "def sigmoid (z):\n",
    "    return 1.0/(1.0 + np.exp(-z))\n",
    "\n",
    "def costFunc(thetas, X, Y):\n",
    "    H = sigmoid(np.dot(X, thetas))       \n",
    "    oper1 = -(float(1)/len(X))\n",
    "    oper2 = np.dot((np.log(H)).T, Y)      \n",
    "    oper3 = (np.log(1-H)).T                     \n",
    "    oper4 = 1-Y\n",
    "    return oper1 * (oper2 + np.dot(oper3, oper4))\n",
    "\n",
    "#Gradient descent algorithm\n",
    "def alg_gradDesc(thetas, X, Y):\n",
    "    H = sigmoid(np.dot(X, thetas))  \n",
    "    return np.dot((1.0/len(X)), X.T).dot(H-Y)\n",
    "\n",
    "def alg_desGrad_reg(thetas, X, Y, _lambda):\n",
    "    H = sigmoid(np.dot(X, thetas))  \n",
    "    return (np.dot((1.0/len(X)), X.T).dot(H-Y))+(_lambda/len(X))*thetas\n",
    "\n",
    "def costFunc_reg(thetas, X, Y, _lambda):\n",
    "    H = sigmoid(np.dot(X, thetas))       \n",
    "    oper1 = -(float(1)/len(X))\n",
    "    oper2 = np.dot((np.log(H)).T, Y)      \n",
    "    oper3 = (np.log(1-H)).T                     \n",
    "    oper4 = 1-Y\n",
    "    oper5 = (_lambda/(2*len(X)))*np.sum(thetas**2)\n",
    "    return (oper1 * (oper2 + np.dot(oper3, oper4)))+ oper5\n",
    "\n",
    "def oneVsAll(X, Y, num_etiquetas, reg):\n",
    "    thetas = np.zeros([num_etiquetas, X.shape[1]]) #Thetas es un vector de shape (num_etiquetas, 401)\n",
    "\n",
    "    for i in range(num_etiquetas):\n",
    "        if(i == 0):\n",
    "             iaux = 10\n",
    "        else:\n",
    "            iaux = i\n",
    "        \n",
    "        a = (Y == iaux)*1\n",
    "        thetas[i] = scopt.fmin_tnc(fun_coste_regularizada, thetas[i], alg_desGrad_reg,args = (X, a, reg))[0]\n",
    "        \n",
    "    return thetas"
   ]
  },
  {
   "cell_type": "markdown",
   "metadata": {},
   "source": [
    "We start getting the data:"
   ]
  },
  {
   "cell_type": "code",
   "execution_count": 37,
   "metadata": {},
   "outputs": [
    {
     "name": "stdout",
     "output_type": "stream",
     "text": [
      "[[ 0  0  5 ...  0  0  0]\n",
      " [ 0  0  0 ... 10  0  0]\n",
      " [ 0  0  0 ... 16  9  0]\n",
      " ...\n",
      " [ 0  0  1 ...  6  0  0]\n",
      " [ 0  0  2 ... 12  0  0]\n",
      " [ 0  0 10 ... 12  1  0]]\n"
     ]
    }
   ],
   "source": [
    "file = open('Data/optdigits.tra', encoding =\"utf8\", errors = \"ignore\")\n",
    "data = csv.reader(file)\n",
    "lines = np.array(list(data))\n",
    "\n",
    "X_input = np.array(lines[:,:-1], dtype = np.int)\n",
    "Y_input = np.array(lines [:,-1:], dtype = np.int)\n",
    "\n",
    "numCases = len (X_input)\n",
    "#print(X_input.shape)\n",
    "\n",
    "file = open('Data/optdigits.tes', encoding =\"utf8\", errors = \"ignore\")\n",
    "data = csv.reader(file)\n",
    "lines = np.array(list(data))\n",
    "\n",
    "X_input_test = np.array(lines[:,:-1], dtype = np.int)\n",
    "Y_input_test = np.array(lines [:,-1:], dtype = np.int)\n",
    "print(X_input_test)"
   ]
  },
  {
   "cell_type": "markdown",
   "metadata": {},
   "source": [
    "# Neural Network Functions"
   ]
  },
  {
   "cell_type": "code",
   "execution_count": 3,
   "metadata": {},
   "outputs": [],
   "source": [
    "def sigmoidDerivative(z):\n",
    "    return sigmoid(z)*(1-sigmoid(z))\n",
    "\n",
    "#hypothesis function for a 3 layer neuronal network\n",
    "def hypothesis(thetas1, thetas2, X):\n",
    "    return sigmoid(thetas2.dot(sigmoid(thetas1.dot(X))))    \n",
    "\n",
    "#Cost Function\n",
    "def NN_cost (theta1, theta2, X, Y, reg):    \n",
    "    return 0\n"
   ]
  },
  {
   "cell_type": "markdown",
   "metadata": {},
   "source": [
    "Here we obtain the data to use it. It comes in an (Ncases, 64) array. \n",
    "Each case consists of 64 values from 0 to 16.\n",
    "Then, we normalize it to the interval [0.0, 1.0]\n",
    "Y array comes in form (Ncases, 1).Each value in Y is between 0 and 9. Indicating which number is written.\n",
    "To operate with it, Y must be converted to a (nCases, nClases) array. \n",
    "Each row will contain 10 values. All set to 0 except the case that is true for that number. E.g. If the number written is '0', `Y[0]` will be `true` and the rest will be `false`"
   ]
  },
  {
   "cell_type": "code",
   "execution_count": 4,
   "metadata": {},
   "outputs": [
    {
     "ename": "NameError",
     "evalue": "name 'X' is not defined",
     "output_type": "error",
     "traceback": [
      "\u001b[1;31m---------------------------------------------------------------------------\u001b[0m",
      "\u001b[1;31mNameError\u001b[0m                                 Traceback (most recent call last)",
      "\u001b[1;32m<ipython-input-4-573178d82bea>\u001b[0m in \u001b[0;36m<module>\u001b[1;34m()\u001b[0m\n\u001b[0;32m      6\u001b[0m \u001b[0mY_input\u001b[0m \u001b[1;33m=\u001b[0m \u001b[0mnp\u001b[0m\u001b[1;33m.\u001b[0m\u001b[0marray\u001b[0m\u001b[1;33m(\u001b[0m\u001b[0mlines\u001b[0m \u001b[1;33m[\u001b[0m\u001b[1;33m:\u001b[0m\u001b[1;33m,\u001b[0m\u001b[1;33m-\u001b[0m\u001b[1;36m1\u001b[0m\u001b[1;33m:\u001b[0m\u001b[1;33m]\u001b[0m\u001b[1;33m,\u001b[0m \u001b[0mdtype\u001b[0m \u001b[1;33m=\u001b[0m \u001b[0mnp\u001b[0m\u001b[1;33m.\u001b[0m\u001b[0mint\u001b[0m\u001b[1;33m)\u001b[0m\u001b[1;33m\u001b[0m\u001b[0m\n\u001b[0;32m      7\u001b[0m \u001b[1;33m\u001b[0m\u001b[0m\n\u001b[1;32m----> 8\u001b[1;33m \u001b[0mnumCases\u001b[0m \u001b[1;33m=\u001b[0m \u001b[0mlen\u001b[0m \u001b[1;33m(\u001b[0m\u001b[0mX\u001b[0m\u001b[1;33m)\u001b[0m\u001b[1;33m\u001b[0m\u001b[0m\n\u001b[0m\u001b[0;32m      9\u001b[0m \u001b[0mnumTags\u001b[0m \u001b[1;33m=\u001b[0m \u001b[0mlen\u001b[0m\u001b[1;33m(\u001b[0m\u001b[0mnp\u001b[0m\u001b[1;33m.\u001b[0m\u001b[0munique\u001b[0m\u001b[1;33m(\u001b[0m\u001b[0mY_input\u001b[0m\u001b[1;33m)\u001b[0m\u001b[1;33m)\u001b[0m\u001b[1;33m\u001b[0m\u001b[0m\n\u001b[0;32m     10\u001b[0m \u001b[1;33m\u001b[0m\u001b[0m\n",
      "\u001b[1;31mNameError\u001b[0m: name 'X' is not defined"
     ]
    }
   ],
   "source": [
    "file = open('Data/optdigits.tra', encoding =\"utf8\", errors = \"ignore\")\n",
    "data = csv.reader(file)\n",
    "lines = np.array(list(data))\n",
    "\n",
    "X_input = np.array(lines[:,:-1], dtype = np.int)\n",
    "Y_input = np.array(lines [:,-1:], dtype = np.int)\n",
    "\n",
    "numCases = len (X_input)\n",
    "numTags = len(np.unique(Y_input))\n",
    "\n",
    "print (numTags)\n",
    "#X matrix with normalized values from [0, 16] to [0.0, 1.0]\n",
    "\n",
    "X_N = X_input/16.0\n",
    "\n",
    "X_ones = np.hstack([np.ones((len(X), 1), dtype = np.int), X_input])\n",
    "Y_real = np.zeros((numCases, numTags), dtype = np.int)\n",
    "for n in range(numCases):\n",
    "    Y_real[n][Y_input[n]] = 1\n",
    "thetas1 = np.zeros()\n",
    "    \n",
    "    \n",
    "displayImage(X_N[0])"
   ]
  },
  {
   "cell_type": "markdown",
   "metadata": {},
   "source": [
    "We will be operating a 3 layer NN. \n",
    "- 1 input layer\n",
    "- 1 hidden layer\n",
    "- 1 output layer"
   ]
  },
  {
   "cell_type": "code",
   "execution_count": null,
   "metadata": {},
   "outputs": [],
   "source": []
  },
  {
   "cell_type": "markdown",
   "metadata": {},
   "source": [
    "# Anex\n",
    "- How many hidden layers should my NN have?\n",
    "http://www.faqs.org/faqs/ai-faq/neural-nets/part3/section-9.html\n",
    "https://towardsdatascience.com/beginners-ask-how-many-hidden-layers-neurons-to-use-in-artificial-neural-networks-51466afa0d3e\n",
    "- How many nodes should the hidden layer of my NN have?\n",
    "http://www.faqs.org/faqs/ai-faq/neural-nets/part3/section-10.html"
   ]
  }
 ],
 "metadata": {
  "kernelspec": {
   "display_name": "Python 3",
   "language": "python",
   "name": "python3"
  },
  "language_info": {
   "codemirror_mode": {
    "name": "ipython",
    "version": 3
   },
   "file_extension": ".py",
   "mimetype": "text/x-python",
   "name": "python",
   "nbconvert_exporter": "python",
   "pygments_lexer": "ipython3",
   "version": "3.6.5"
  }
 },
 "nbformat": 4,
 "nbformat_minor": 2
}
