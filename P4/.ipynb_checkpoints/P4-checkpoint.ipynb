{
 "cells": [
  {
   "cell_type": "markdown",
   "metadata": {},
   "source": [
    "# Practica 4 Aprendizaje Automático y Minería de Datos\n",
    "### Mario Jimenez y Manuel Hernández"
   ]
  },
  {
   "cell_type": "markdown",
   "metadata": {},
   "source": [
    "Esta práctica consiste en reconocer digitos manuscritos mediante una red neuronal."
   ]
  },
  {
   "cell_type": "markdown",
   "metadata": {},
   "source": [
    "## Inclusión de librerías"
   ]
  },
  {
   "cell_type": "code",
   "execution_count": 1,
   "metadata": {},
   "outputs": [],
   "source": [
    "import displayData\n",
    "import numpy as np\n",
    "import displayData as dp\n",
    "from scipy.io import loadmat\n",
    "import matplotlib.pyplot as plt\n",
    "import scipy.optimize as opt\n",
    "import checkNNGradients as check"
   ]
  },
  {
   "cell_type": "markdown",
   "metadata": {},
   "source": [
    "## Lectura de datos"
   ]
  },
  {
   "cell_type": "code",
   "execution_count": 2,
   "metadata": {},
   "outputs": [],
   "source": [
    "data = loadmat('ex4data1.mat')\n",
    "Y = data['y']  # Representa el valor real de cada ejemplo de entrenamiento de X (y para cada X)\n",
    "X = data['X']  # Cada fila de X representa una escala de grises de 20x20 desplegada linearmente (400 pixeles)\n",
    "nMuestras = len(X)\n",
    "Y = np.ravel(Y)"
   ]
  },
  {
   "cell_type": "markdown",
   "metadata": {},
   "source": [
    "Las entradas son mapas de bits de 20x20, que se desdoblan en columnas de 400 elementos a los que se les asocia un valor."
   ]
  },
  {
   "cell_type": "code",
   "execution_count": 4,
   "metadata": {},
   "outputs": [
    {
     "name": "stdout",
     "output_type": "stream",
     "text": [
      "9\n"
     ]
    },
    {
     "data": {
      "text/plain": [
       "<Figure size 432x288 with 0 Axes>"
      ]
     },
     "metadata": {},
     "output_type": "display_data"
    },
    {
     "data": {
      "image/png": "[encoded data removed]",
      "text/plain": [
       "<Figure size 432x288 with 1 Axes>"
      ]
     },
     "metadata": {},
     "output_type": "display_data"
    }
   ],
   "source": [
    "print(Y[4999])\n",
    "plt.figure()\n",
    "dp.displayImage(X[4999])\n",
    "plt.savefig(\"Input_sample\")\n",
    "plt.show()"
   ]
  },
  {
   "cell_type": "markdown",
   "metadata": {},
   "source": [
    "### Carga de matrices de pesos preentrenadas"
   ]
  },
  {
   "cell_type": "code",
   "execution_count": 5,
   "metadata": {},
   "outputs": [],
   "source": [
    "weights = loadmat('ex4weights.mat')\n",
    "theta1, theta2 = weights['Theta1'], weights ['Theta2']"
   ]
  },
  {
   "cell_type": "markdown",
   "metadata": {},
   "source": [
    "## Función de activación y derivada\n",
    "En esta red neuronal utilizaremos la función sigmoide como función de activación para las neuronas."
   ]
  },
  {
   "cell_type": "code",
   "execution_count": 9,
   "metadata": {},
   "outputs": [
    {
     "name": "stdout",
     "output_type": "stream",
     "text": [
      "Sigmoid (0.25) =  0.5621765008857981\n"
     ]
    }
   ],
   "source": [
    "def sigmoid(z):\n",
    "    return 1/(1 + np.exp(-z))\n",
    "def sigmoidDerivative(z):\n",
    "    return sigmoid(z)*(1-sigmoid(z))\n",
    "\n",
    "print(\"Sigmoid (0.25) = \",sigmoid(0.25))"
   ]
  },
  {
   "cell_type": "markdown",
   "metadata": {},
   "source": [
    "## Forward propagation y función de coste\n",
    "La función de hipótesis o de forward propagation utiliza un valor de entrada(401 entradas, con termino de sesgo ya añadido) para predecir una salida mediante una matriz de pesos y una función de activación.\n",
    "Además, durante el proceso, añadirá el termino de sesgo o *bias* para el computo final. Devolvemos todas las matrices intermedias, ya que nos podrán ser de utilidad."
   ]
  },
  {
   "cell_type": "code",
   "execution_count": 58,
   "metadata": {},
   "outputs": [
    {
     "name": "stdout",
     "output_type": "stream",
     "text": [
      "Valor predicho para el elemento 0 de X según la hipótesis:  9\n"
     ]
    }
   ],
   "source": [
    "def forwardProp(thetas1, thetas2, X):\n",
    "    z2 = thetas1.dot(X.T)\n",
    "    a2 = sigmoid(z2)\n",
    "    tuple = (np.ones(len(a2[0])), a2)\n",
    "    a2 = np.vstack(tuple)\n",
    "    z3 = thetas2.dot(a2)\n",
    "    a3 = sigmoid(z3)\n",
    "    return z2, a2, z3, a3\n",
    "\n",
    "X_aux = np.hstack([np.ones((len(X), 1), dtype = np.float), X])\n",
    "print(\"Valor predicho para el elemento 0 de X según la hipótesis: \",(forwardProp(theta1, theta2, X_aux)[3]).T[0].argmax())"
   ]
  },
  {
   "cell_type": "markdown",
   "metadata": {},
   "source": [
    "En cuanto a la función de coste, implementaremos la función de coste con regularización.\n",
    "Como entrada a dicha función, hemos de preparar un vector de Y distinto al recibido.\n",
    "Será una matriz de *(numElementos, numEtiquetas)* donde cada fila corresponde a un caso.\n",
    "Cada fila tendrá todos los valores a cero menos el valor real que representa ese caso, que estará a 1.\n",
    "\n"
   ]
  },
  {
   "cell_type": "code",
   "execution_count": null,
   "metadata": {},
   "outputs": [],
   "source": [
    "def costFun(X, y, theta1, theta2,  reg):\n",
    "    #Here we assert that we can operate with the parameters\n",
    "    X = np.array(X)\n",
    "    y = np.array(y)\n",
    "    muestras = len(y)\n",
    "\n",
    "    theta1 = np.array(theta1)\n",
    "    theta2 = np.array(theta2)\n",
    "\n",
    "    hipo  = forwardProp(theta1, theta2, X)[3]\n",
    "    cost = np.sum((-y.T)*(np.log(hipo)) - (1-y.T)*(np.log(1- hipo)))/muestras\n",
    "\n",
    "    regcost = np.sum(np.power(theta1[:, 1:], 2)) + np.sum(np.power(theta2[:,1:], 2))\n",
    "    regcost = regcost * (reg/(2*muestras))\n",
    "\n",
    "    return cost + regcost\n",
    "\n",
    "def getYMatrix(Y, nMuestras, nEtiquetas):\n",
    "    nY =  np.zeros((nMuestras, nEtiquetas))\n",
    "    yaux = np.array(Y) -1\n",
    "    for i in range(len(nY)):\n",
    "        z = yaux[i]\n",
    "        if(z == 10): z = 0\n",
    "        nY[i][z] = 1\n",
    "    return nY\n",
    "\n"
   ]
  }
 ],
 "metadata": {
  "kernelspec": {
   "display_name": "Python 3",
   "language": "python",
   "name": "python3"
  },
  "language_info": {
   "codemirror_mode": {
    "name": "ipython",
    "version": 3
   },
   "file_extension": ".py",
   "mimetype": "text/x-python",
   "name": "python",
   "nbconvert_exporter": "python",
   "pygments_lexer": "ipython3",
   "version": "3.6.5"
  }
 },
 "nbformat": 4,
 "nbformat_minor": 2
}
